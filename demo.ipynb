{
 "cells": [
  {
   "cell_type": "code",
   "execution_count": 4,
   "metadata": {},
   "outputs": [],
   "source": [
    "%%bash\n",
    "#URLs for demo dataset and reference genome\n",
    "DATASET_URL=''\n",
    "REFERENCE_URL=''\n",
    "\n",
    "#create demo directory\n",
    "mkdir demo && cd demo/\n",
    "#download demo dataset\n",
    "wget \"${DATASET_URL}\" -O Brucella.outbreak.30.subset.tar.gz\n",
    "#untar dataset and unzip all genome assemblies\n",
    "tar xf Brucella.outbreak.30.subset.tar.gz\n",
    "gunzip Component01.data.subset/*.gz\n",
    "#download reference genome for cgSNPs analysis\n",
    "wget \"${REFERENCE_URL}\" -O GCF_000007125.1_ASM712v1_genomic.fna.gz\n",
    "gunzip GCF_000007125.1_ASM712v1_genomic.fna.gz\n",
    "#download parallel tool\n",
    "wget https://github.com/shenwei356/rush/releases/download/v0.4.2/rush_linux_amd64.tar.gz\n",
    "tar xf rush_linux_amd64.tar.gz && rm -f rush_linux_amd64.tar.gz\n"
    
   ]
  },
  {
   "cell_type": "code",
   "execution_count": null,
   "metadata": {},
   "outputs": [],
   "source": [
    "%%bash\n",
    "#run mlst\n",
    "mkdir mlst-output/\n",
    "\n",
    "mkdir snippy-output/\n",
    "#example command: snippy --outdir snippy-output/Animal_140/ --ref GCF_000007125.1_ASM712v1_genomic.fna --ctgs Component01.data.subset/Animal_140_R1.fa\n",
    "#note that you can also run snippy in parallel:\n",
    "#example command: find Component01.data.subset/ -type f -name "*.fa" | ./rush -j 1 'snippy --cleanup --outdir snippy-output/{%^_R1.fa} --ref GCF_000007125.1_ASM712v1_genomic.fna --ctgs {}'\n",
    "\n",
    "#run snippy core using all snippy results",
    "mkdir snippy-core-output/\n",
    "\n",
    "#run iqtree using the core.full.aln from snippy-core output",
    "\n",
    
   ]
  }
 ],
 "metadata": {
  "kernelspec": {
   "display_name": "Python 3",
   "language": "python",
   "name": "python3"
  },
  "language_info": {
   "codemirror_mode": {
    "name": "ipython",
    "version": 3
   },
   "file_extension": ".py",
   "mimetype": "text/x-python",
   "name": "python",
   "nbconvert_exporter": "python",
   "pygments_lexer": "ipython3",
   "version": "3.8.3"
  }
 },
 "nbformat": 4,
 "nbformat_minor": 4
}
