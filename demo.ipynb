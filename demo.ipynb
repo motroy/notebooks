{
 "cells": [
  {
   "cell_type": "markdown",
   "metadata": {},
   "source": [
    "### Scenario\n",
    "The dataset consists of 30 single *Brucella* spp. genome assemblies of the species *B. abortus*, *B. canis*, *B. melitensis* and *B. suis*, assigned to derive from human (16 isolates), animal (5 isolates), food (4 isolate) or environmental (5 isolates) sources. \n",
    "Phylogenetic cluster analysis should be conducted to identify the suspected deliberately released *Brucella* strain causing a human outbreak. "
   ]
  },
  {
   "cell_type": "markdown",
   "metadata": {},
   "source": [
    "### Data to download\n",
    "#### a. set locations for demo dataset, reference genome and metadata"
   ]
  },
  {
   "cell_type": "code",
   "execution_count": null,
   "metadata": {},
   "outputs": [],
   "source": [
    "%%bash\n",
    "#URLs for demo dataset, reference genome and metadata\n",
    "DATASET_URL=''\n",
    "REFERENCE_URL=''\n",
    "METADATA_URL=''"
   ]
  },
  {
   "cell_type": "markdown",
   "metadata": {},
   "source": [
    "#### b. create work directory and download dataset and reference genome"
   ]
  },
  {
   "cell_type": "code",
   "execution_count": null,
   "metadata": {},
   "outputs": [],
   "source": [
    "%%bash\n",
    "#create demo directory\n",
    "mkdir demo && cd demo/\n",
    "\n",
    "#download dataset\n",
    "wget \\\"${DATASET_URL}\\\" -O Brucella.outbreak.30.subset.tar.gz\n",
    "#untar dataset and unzip all genome assemblies\n",
    "tar xf Brucella.outbreak.30.subset.tar.gz\n",
    "gunzip Component01.data.subset/*.gz\n",
    "#download reference genome for cgSNPs analysis\n",
    "wget \\\"${REFERENCE_URL}\\\" -O GCF_000007125.1_ASM712v1_genomic.fna.gz\n",
    "gunzip GCF_000007125.1_ASM712v1_genomic.fna.gz\n",
    "#download metadata for mlst analysis\n",
    "wget \\\"${METADATA_URL}\\\" -O mlst.ST.species.tsv\n",
    "\n",
    "#download parallel tool\n",
    "wget https://github.com/shenwei356/rush/releases/download/v0.4.2/rush_linux_amd64.tar.gz\n",
    "tar xf rush_linux_amd64.tar.gz && rm -f rush_linux_amd64.tar.gz"
   ]
  },
  {
   "cell_type": "markdown",
   "metadata": {},
   "source": [
    "### Tasks\n",
    "#### 1. provide a summary of each isolate’s genome assembly "
   ]
  },
  {
   "cell_type": "code",
   "execution_count": null,
   "metadata": {},
   "outputs": [],
   "source": [
    "%%bash\n",
    "#run seqkit\n",
    "seqkit -h"
   ]
  },
  {
   "cell_type": "markdown",
   "metadata": {},
   "source": [
    "#### 2. answer the following questions\n",
    "##### a. Which of the four Brucella species is assigned for each isolate? "
   ]
  },
  {
   "cell_type": "code",
   "execution_count": null,
   "metadata": {},
   "outputs": [],
   "source": [
    "%%bash\n",
    "#run mlst for each genome and then retrieve species from the metadata file (mapping assigned ST to species)\n",
    "mkdir mlst-output/\n",
    "mlst -h\n"
   ]
  },
  {
   "cell_type": "markdown",
   "metadata": {},
   "source": [
    "##### b. Which of the four Brucella species is causing the outbreak?\n",
    "##### c. What is the source of the isolate that is closely related to the human outbreak strains?"
   ]
  },
  {
   "cell_type": "code",
   "execution_count": null,
   "metadata": {},
   "outputs": [],
   "source": [
    "%%bash\n",
    "\n",
    "#we will attempt to answer these questions using the cgSNPs method\n",
    "#snippy is a tool\n",
    "#example command: snippy --outdir snippy-output/Animal_140/ --ref GCF_000007125.1_ASM712v1_genomic.fna --ctgs Component01.data.subset/Animal_140_R1.fa\n",
    "#note that you can also run snippy in parallel:\n",
    "#example command: find Component01.data.subset/ -type f -name \"*.fa\" | ./rush -j 1 'snippy --cleanup --outdir snippy-output/{%^_R1.fa} --ref GCF_000007125.1_ASM712v1_genomic.fna --ctgs {}'\n",
    "mkdir snippy-output/\n",
    "snippy -h\n",
    "\n",
    "#run snippy core using all snippy results\n",
    "mkdir snippy-core-output/\n",
    "snippy-core -h\n",
    "\n",
    "#run iqtree using the core.full.aln from snippy-core output\n",
    "iqtree -h"
   ]
  }
 ],
 "metadata": {
  "kernelspec": {
   "display_name": "Python 3",
   "language": "python",
   "name": "python3"
  },
  "language_info": {
   "codemirror_mode": {
    "name": "ipython",
    "version": 3
   },
   "file_extension": ".py",
   "mimetype": "text/x-python",
   "name": "python",
   "nbconvert_exporter": "python",
   "pygments_lexer": "ipython3",
   "version": "3.8.3"
  }
 },
 "nbformat": 4,
 "nbformat_minor": 4
}
